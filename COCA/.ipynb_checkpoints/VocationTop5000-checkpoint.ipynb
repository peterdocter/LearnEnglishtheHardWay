{
 "cells": [
  {
   "cell_type": "code",
   "execution_count": 1,
   "metadata": {
    "collapsed": true
   },
   "outputs": [],
   "source": [
    "import numpy as np\n",
    "\n",
    "import pandas as pd\n",
    "from pandas import Series, DataFrame"
   ]
  },
  {
   "cell_type": "code",
   "execution_count": 2,
   "metadata": {
    "collapsed": false
   },
   "outputs": [],
   "source": [
    "df = pd.read_csv('top5000_add_all_label.csv',index_col=False)"
   ]
  },
  {
   "cell_type": "code",
   "execution_count": 4,
   "metadata": {
    "collapsed": false
   },
   "outputs": [
    {
     "name": "stdout",
     "output_type": "stream",
     "text": [
      "Rank,Word,Part of speech,Frequency,Dispersion,Know\r\n",
      "1.0,the,a,22038615.0,0.98,0.0\r\n",
      "2.0,be,v,12545825.0,0.97,0.0\r\n",
      "3.0,and,c,10741073.0,0.99,0.0\r\n",
      "4.0,of,i,10343885.0,0.97,0.0\r\n",
      "5.0,a,a,10144200.0,0.98,0.0\r\n",
      "6.0,in,i,6996437.0,0.98,0.0\r\n",
      "7.0,to,t,6332195.0,0.98,0.0\r\n",
      "8.0,have,v,4303955.0,0.97,0.0\r\n",
      "9.0,to,i,3856916.0,0.99,0.0\r\n"
     ]
    }
   ],
   "source": [
    "!head top5000_add_all_label.csv"
   ]
  },
  {
   "cell_type": "code",
   "execution_count": 5,
   "metadata": {
    "collapsed": false,
    "scrolled": true
   },
   "outputs": [
    {
     "data": {
      "text/html": [
       "<div>\n",
       "<table border=\"1\" class=\"dataframe\">\n",
       "  <thead>\n",
       "    <tr style=\"text-align: right;\">\n",
       "      <th></th>\n",
       "      <th>Rank</th>\n",
       "      <th>Word</th>\n",
       "      <th>Part of speech</th>\n",
       "      <th>Frequency</th>\n",
       "      <th>Dispersion</th>\n",
       "      <th>Know</th>\n",
       "    </tr>\n",
       "  </thead>\n",
       "  <tbody>\n",
       "    <tr>\n",
       "      <th>0</th>\n",
       "      <td>1.0</td>\n",
       "      <td>the</td>\n",
       "      <td>a</td>\n",
       "      <td>22038615.0</td>\n",
       "      <td>0.98</td>\n",
       "      <td>0.0</td>\n",
       "    </tr>\n",
       "    <tr>\n",
       "      <th>1</th>\n",
       "      <td>2.0</td>\n",
       "      <td>be</td>\n",
       "      <td>v</td>\n",
       "      <td>12545825.0</td>\n",
       "      <td>0.97</td>\n",
       "      <td>0.0</td>\n",
       "    </tr>\n",
       "    <tr>\n",
       "      <th>2</th>\n",
       "      <td>3.0</td>\n",
       "      <td>and</td>\n",
       "      <td>c</td>\n",
       "      <td>10741073.0</td>\n",
       "      <td>0.99</td>\n",
       "      <td>0.0</td>\n",
       "    </tr>\n",
       "    <tr>\n",
       "      <th>3</th>\n",
       "      <td>4.0</td>\n",
       "      <td>of</td>\n",
       "      <td>i</td>\n",
       "      <td>10343885.0</td>\n",
       "      <td>0.97</td>\n",
       "      <td>0.0</td>\n",
       "    </tr>\n",
       "    <tr>\n",
       "      <th>4</th>\n",
       "      <td>5.0</td>\n",
       "      <td>a</td>\n",
       "      <td>a</td>\n",
       "      <td>10144200.0</td>\n",
       "      <td>0.98</td>\n",
       "      <td>0.0</td>\n",
       "    </tr>\n",
       "  </tbody>\n",
       "</table>\n",
       "</div>"
      ],
      "text/plain": [
       "   Rank Word Part of speech   Frequency  Dispersion  Know\n",
       "0   1.0  the              a  22038615.0        0.98   0.0\n",
       "1   2.0   be              v  12545825.0        0.97   0.0\n",
       "2   3.0  and              c  10741073.0        0.99   0.0\n",
       "3   4.0   of              i  10343885.0        0.97   0.0\n",
       "4   5.0    a              a  10144200.0        0.98   0.0"
      ]
     },
     "execution_count": 5,
     "metadata": {},
     "output_type": "execute_result"
    }
   ],
   "source": [
    "df.head()"
   ]
  },
  {
   "cell_type": "code",
   "execution_count": 6,
   "metadata": {
    "collapsed": false
   },
   "outputs": [
    {
     "name": "stdout",
     "output_type": "stream",
     "text": [
      "<class 'pandas.core.frame.DataFrame'>\n",
      "Int64Index: 334 entries, 147 to 999\n",
      "Data columns (total 6 columns):\n",
      "Rank              334 non-null float64\n",
      "Word              334 non-null object\n",
      "Part of speech    334 non-null object\n",
      "Frequency         334 non-null float64\n",
      "Dispersion        334 non-null float64\n",
      "Know              334 non-null float64\n",
      "dtypes: float64(4), object(2)\n",
      "memory usage: 18.3+ KB\n"
     ]
    }
   ],
   "source": [
    "df_1_1000 = df[:1000]\n",
    "df_1_1000 = df_1_1000[df_1_1000.Know==1]\n",
    "df_1_1000.info()"
   ]
  },
  {
   "cell_type": "code",
   "execution_count": 15,
   "metadata": {
    "collapsed": false
   },
   "outputs": [],
   "source": [
    "df_1_100 = df_1_1000[:100]\n",
    "df_1_100 = df_1_100[['Rank','Word','Part of speech']]\n",
    "# df_1_100.sort_index(ascending=False,inplace=True)\n",
    "df_1_100['Rank'] = df_1_100.Rank.map(lambda x: int(x))\n",
    "df_1_100.to_csv('df_1_100_all.csv', index=False, header=False)"
   ]
  },
  {
   "cell_type": "code",
   "execution_count": 16,
   "metadata": {
    "collapsed": false
   },
   "outputs": [],
   "source": [
    "df_1_100[['Rank', 'Word']].to_csv('df_1_100_rename.txt', index=False, header=False)"
   ]
  },
  {
   "cell_type": "code",
   "execution_count": 17,
   "metadata": {
    "collapsed": false,
    "scrolled": true
   },
   "outputs": [
    {
     "name": "stdout",
     "output_type": "stream",
     "text": [
      "148,own\r\n",
      "163,group\r\n",
      "180,against\r\n",
      "231,area\r\n",
      "264,service\r\n",
      "273,hour\r\n",
      "278,political\r\n",
      "280,among\r\n",
      "288,law\r\n",
      "293,include\r\n"
     ]
    }
   ],
   "source": [
    "!head df_1_100_rename.txt"
   ]
  },
  {
   "cell_type": "code",
   "execution_count": 18,
   "metadata": {
    "collapsed": false,
    "scrolled": false
   },
   "outputs": [
    {
     "name": "stdout",
     "output_type": "stream",
     "text": [
      "|------+-----------+----|\r\n",
      "|  148 | own       | d  |\r\n",
      "|------+-----------+----|\r\n",
      "|  163 | group     | n  |\r\n",
      "|  180 | against   | i  |\r\n",
      "|  231 | area      | n  |\r\n",
      "|  264 | service   | n  |\r\n",
      "|  273 | hour      | n  |\r\n",
      "|  278 | political | j  |\r\n",
      "|  280 | among     | i  |\r\n",
      "|  288 | law       | n  |\r\n",
      "|  293 | include   | v  |\r\n",
      "|------+-----------+----|\r\n"
     ]
    }
   ],
   "source": [
    "!head df_1_100_all.csv | csvlook"
   ]
  },
  {
   "cell_type": "code",
   "execution_count": 19,
   "metadata": {
    "collapsed": false,
    "scrolled": true
   },
   "outputs": [
    {
     "name": "stdout",
     "output_type": "stream",
     "text": [
      "100 df_1_100_all.csv\r\n"
     ]
    }
   ],
   "source": [
    "!wc -l df_1_100_all.csv"
   ]
  },
  {
   "cell_type": "code",
   "execution_count": 20,
   "metadata": {
    "collapsed": false,
    "scrolled": true
   },
   "outputs": [],
   "source": [
    "!sort -dk 2 -t , df_1_100_all.csv > df_1_100_all_new.csv"
   ]
  },
  {
   "cell_type": "code",
   "execution_count": 21,
   "metadata": {
    "collapsed": false
   },
   "outputs": [
    {
     "name": "stdout",
     "output_type": "stream",
     "text": [
      "rm: cannot remove ‘df_1_100_all_01.csv’: No such file or directory\r\n"
     ]
    }
   ],
   "source": [
    "!rm df_1_100_all_01.csv"
   ]
  },
  {
   "cell_type": "code",
   "execution_count": 22,
   "metadata": {
    "collapsed": false,
    "scrolled": true
   },
   "outputs": [
    {
     "name": "stdout",
     "output_type": "stream",
     "text": [
      "378,across,i\r\n",
      "538,activity,n\r\n",
      "397,actually,r\r\n",
      "180,against,i\r\n",
      "448,along,i\r\n",
      "280,among,i\r\n",
      "396,appear,v\r\n",
      "231,area,n\r\n",
      "537,base,v\r\n",
      "422,behind,i\r\n"
     ]
    }
   ],
   "source": [
    "!head df_1_100_all_new.csv"
   ]
  },
  {
   "cell_type": "markdown",
   "metadata": {},
   "source": [
    "抽取100-217"
   ]
  },
  {
   "cell_type": "code",
   "execution_count": 7,
   "metadata": {
    "collapsed": true
   },
   "outputs": [],
   "source": [
    "df_1_1000 = df[:1000]\n",
    "df_1_1000 = df_1_1000[df_1_1000.Know==1]\n",
    "df_100_217 = df_1_1000[100:217]"
   ]
  },
  {
   "cell_type": "code",
   "execution_count": 31,
   "metadata": {
    "collapsed": false,
    "scrolled": true
   },
   "outputs": [],
   "source": [
    "df_100_217 = df_100_217[['Rank','Word','Part of speech']]\n",
    "df_100_217['Rank'] = df_100_217.Rank.map(lambda x: int(x))\n",
    "df_100_217_rename = df_100_217[['Rank', 'Word']]\n",
    "df_100_217_values = df_100_217['Word']\n",
    "df_100_217.to_csv('df_100_217_all.txt', index=False, header=False)\n",
    "df_100_217_rename.to_csv('df_100_217_rename.txt', index=False, header=False)\n",
    "df_100_217_values.to_csv('df_100_217_values.txt', index=False, header=False)"
   ]
  },
  {
   "cell_type": "code",
   "execution_count": 17,
   "metadata": {
    "collapsed": false
   },
   "outputs": [
    {
     "name": "stdout",
     "output_type": "stream",
     "text": [
      "coca20000.pdf\t   df_100_217_all.txt\t      top5000_value_5000_00.csv\r\n",
      "coca20000.txt\t   df_100_217_rename.txt      VocationTop5000.ipynb\r\n",
      "COCA_Data\t   top5000_add_all_label.csv\r\n",
      "DataTop5000.ipynb  top5000_value_4116.csv\r\n"
     ]
    }
   ],
   "source": [
    "!ls"
   ]
  },
  {
   "cell_type": "code",
   "execution_count": 18,
   "metadata": {
    "collapsed": false,
    "scrolled": true
   },
   "outputs": [
    {
     "name": "stdout",
     "output_type": "stream",
     "text": [
      "588,step\r\n",
      "592,attention\r\n",
      "593,draw\r\n",
      "594,film\r\n",
      "595,Republican\r\n",
      "597,source\r\n",
      "600,organization\r\n",
      "602,cause\r\n",
      "606,century\r\n",
      "607,evidence\r\n"
     ]
    }
   ],
   "source": [
    "!head df_100_217_rename.txt"
   ]
  },
  {
   "cell_type": "code",
   "execution_count": 23,
   "metadata": {
    "collapsed": true
   },
   "outputs": [],
   "source": [
    "df_1_1000 = df[:1000]\n",
    "df_1_1000 = df_1_1000[df_1_1000.Know==1]\n",
    "df_217_314 = df_1_1000[217:]"
   ]
  },
  {
   "cell_type": "code",
   "execution_count": 29,
   "metadata": {
    "collapsed": false,
    "scrolled": true
   },
   "outputs": [],
   "source": [
    "df_217_314 = df_217_314[['Rank','Word','Part of speech']]\n",
    "df_217_314['Rank'] = df_217_314.Rank.map(lambda x: int(x))\n",
    "df_217_314_rename = df_217_314[['Rank', 'Word']]\n",
    "df_217_314_values = df_217_314['Word']\n",
    "df_217_314.to_csv('df_217_314_all.txt', index=False, header=False)\n",
    "df_217_314_rename.to_csv('df_217_314_rename.txt', index=False, header=False)\n",
    "df_217_314_values.to_csv('df_217_314_values.txt', index=False, header=False)"
   ]
  },
  {
   "cell_type": "code",
   "execution_count": 28,
   "metadata": {
    "collapsed": false
   },
   "outputs": [
    {
     "name": "stdout",
     "output_type": "stream",
     "text": [
      "coca20000.pdf\t   df_100_217_all.txt\t  top5000_add_all_label.csv\r\n",
      "coca20000.txt\t   df_100_217_rename.txt  top5000_value_4116.csv\r\n",
      "COCA_Data\t   df_217_314_all.txt\t  top5000_value_5000_00.csv\r\n",
      "DataTop5000.ipynb  df_217_314_rename.txt  VocationTop5000.ipynb\r\n"
     ]
    }
   ],
   "source": [
    "!ls"
   ]
  },
  {
   "cell_type": "code",
   "execution_count": 2,
   "metadata": {
    "collapsed": false
   },
   "outputs": [
    {
     "name": "stdout",
     "output_type": "stream",
     "text": [
      "<class 'pandas.core.frame.DataFrame'>\n",
      "Int64Index: 833 entries, 1005 to 1999\n",
      "Data columns (total 6 columns):\n",
      "Rank              833 non-null float64\n",
      "Word              833 non-null object\n",
      "Part of speech    833 non-null object\n",
      "Frequency         833 non-null float64\n",
      "Dispersion        833 non-null float64\n",
      "Know              833 non-null float64\n",
      "dtypes: float64(4), object(2)\n",
      "memory usage: 45.6+ KB\n"
     ]
    }
   ],
   "source": [
    "import numpy as np\n",
    "\n",
    "import pandas as pd\n",
    "from pandas import Series, DataFrame\n",
    "\n",
    "df = pd.read_csv('metadata/top5000_add_all_label.csv',index_col=False)\n",
    "df_1000_2000 = df[1000:2000]\n",
    "df_1000_2000 = df_1000_2000[df_1000_2000.Know==1]\n",
    "df_1000_2000.info()"
   ]
  },
  {
   "cell_type": "code",
   "execution_count": 3,
   "metadata": {
    "collapsed": true
   },
   "outputs": [],
   "source": [
    "df_2_1_100 = df_1000_2000[:100]"
   ]
  },
  {
   "cell_type": "code",
   "execution_count": 4,
   "metadata": {
    "collapsed": false
   },
   "outputs": [
    {
     "data": {
      "text/html": [
       "<div>\n",
       "<table border=\"1\" class=\"dataframe\">\n",
       "  <thead>\n",
       "    <tr style=\"text-align: right;\">\n",
       "      <th></th>\n",
       "      <th>Rank</th>\n",
       "      <th>Word</th>\n",
       "      <th>Part of speech</th>\n",
       "      <th>Frequency</th>\n",
       "      <th>Dispersion</th>\n",
       "      <th>Know</th>\n",
       "    </tr>\n",
       "  </thead>\n",
       "  <tbody>\n",
       "    <tr>\n",
       "      <th>1005</th>\n",
       "      <td>1006.0</td>\n",
       "      <td>soldier</td>\n",
       "      <td>n</td>\n",
       "      <td>39552.0</td>\n",
       "      <td>0.95</td>\n",
       "      <td>1.0</td>\n",
       "    </tr>\n",
       "    <tr>\n",
       "      <th>1006</th>\n",
       "      <td>1007.0</td>\n",
       "      <td>reflect</td>\n",
       "      <td>v</td>\n",
       "      <td>40687.0</td>\n",
       "      <td>0.92</td>\n",
       "      <td>1.0</td>\n",
       "    </tr>\n",
       "    <tr>\n",
       "      <th>1008</th>\n",
       "      <td>1009.0</td>\n",
       "      <td>sexual</td>\n",
       "      <td>j</td>\n",
       "      <td>41865.0</td>\n",
       "      <td>0.89</td>\n",
       "      <td>1.0</td>\n",
       "    </tr>\n",
       "    <tr>\n",
       "      <th>1009</th>\n",
       "      <td>1010.0</td>\n",
       "      <td>cause</td>\n",
       "      <td>n</td>\n",
       "      <td>38843.0</td>\n",
       "      <td>0.96</td>\n",
       "      <td>1.0</td>\n",
       "    </tr>\n",
       "    <tr>\n",
       "      <th>1012</th>\n",
       "      <td>1013.0</td>\n",
       "      <td>fall</td>\n",
       "      <td>n</td>\n",
       "      <td>38822.0</td>\n",
       "      <td>0.96</td>\n",
       "      <td>1.0</td>\n",
       "    </tr>\n",
       "    <tr>\n",
       "      <th>1013</th>\n",
       "      <td>1014.0</td>\n",
       "      <td>marriage</td>\n",
       "      <td>n</td>\n",
       "      <td>38517.0</td>\n",
       "      <td>0.96</td>\n",
       "      <td>1.0</td>\n",
       "    </tr>\n",
       "    <tr>\n",
       "      <th>1014</th>\n",
       "      <td>1015.0</td>\n",
       "      <td>tough</td>\n",
       "      <td>j</td>\n",
       "      <td>39600.0</td>\n",
       "      <td>0.94</td>\n",
       "      <td>1.0</td>\n",
       "    </tr>\n",
       "    <tr>\n",
       "      <th>1016</th>\n",
       "      <td>1017.0</td>\n",
       "      <td>surface</td>\n",
       "      <td>n</td>\n",
       "      <td>39367.0</td>\n",
       "      <td>0.94</td>\n",
       "      <td>1.0</td>\n",
       "    </tr>\n",
       "    <tr>\n",
       "      <th>1017</th>\n",
       "      <td>1018.0</td>\n",
       "      <td>purpose</td>\n",
       "      <td>n</td>\n",
       "      <td>40084.0</td>\n",
       "      <td>0.92</td>\n",
       "      <td>1.0</td>\n",
       "    </tr>\n",
       "    <tr>\n",
       "      <th>1019</th>\n",
       "      <td>1020.0</td>\n",
       "      <td>pattern</td>\n",
       "      <td>n</td>\n",
       "      <td>40397.0</td>\n",
       "      <td>0.91</td>\n",
       "      <td>1.0</td>\n",
       "    </tr>\n",
       "    <tr>\n",
       "      <th>1022</th>\n",
       "      <td>1023.0</td>\n",
       "      <td>agent</td>\n",
       "      <td>n</td>\n",
       "      <td>38265.0</td>\n",
       "      <td>0.96</td>\n",
       "      <td>1.0</td>\n",
       "    </tr>\n",
       "    <tr>\n",
       "      <th>1025</th>\n",
       "      <td>1026.0</td>\n",
       "      <td>gas</td>\n",
       "      <td>n</td>\n",
       "      <td>38194.0</td>\n",
       "      <td>0.96</td>\n",
       "      <td>1.0</td>\n",
       "    </tr>\n",
       "    <tr>\n",
       "      <th>1027</th>\n",
       "      <td>1028.0</td>\n",
       "      <td>ahead</td>\n",
       "      <td>r</td>\n",
       "      <td>39705.0</td>\n",
       "      <td>0.92</td>\n",
       "      <td>1.0</td>\n",
       "    </tr>\n",
       "    <tr>\n",
       "      <th>1028</th>\n",
       "      <td>1029.0</td>\n",
       "      <td>generation</td>\n",
       "      <td>n</td>\n",
       "      <td>38323.0</td>\n",
       "      <td>0.96</td>\n",
       "      <td>1.0</td>\n",
       "    </tr>\n",
       "    <tr>\n",
       "      <th>1029</th>\n",
       "      <td>1030.0</td>\n",
       "      <td>commercial</td>\n",
       "      <td>j</td>\n",
       "      <td>40608.0</td>\n",
       "      <td>0.90</td>\n",
       "      <td>1.0</td>\n",
       "    </tr>\n",
       "    <tr>\n",
       "      <th>1032</th>\n",
       "      <td>1033.0</td>\n",
       "      <td>test</td>\n",
       "      <td>v</td>\n",
       "      <td>38644.0</td>\n",
       "      <td>0.95</td>\n",
       "      <td>1.0</td>\n",
       "    </tr>\n",
       "    <tr>\n",
       "      <th>1033</th>\n",
       "      <td>1034.0</td>\n",
       "      <td>item</td>\n",
       "      <td>n</td>\n",
       "      <td>40336.0</td>\n",
       "      <td>0.91</td>\n",
       "      <td>1.0</td>\n",
       "    </tr>\n",
       "    <tr>\n",
       "      <th>1034</th>\n",
       "      <td>1035.0</td>\n",
       "      <td>reality</td>\n",
       "      <td>n</td>\n",
       "      <td>38397.0</td>\n",
       "      <td>0.95</td>\n",
       "      <td>1.0</td>\n",
       "    </tr>\n",
       "    <tr>\n",
       "      <th>1035</th>\n",
       "      <td>1036.0</td>\n",
       "      <td>coach</td>\n",
       "      <td>n</td>\n",
       "      <td>40716.0</td>\n",
       "      <td>0.90</td>\n",
       "      <td>1.0</td>\n",
       "    </tr>\n",
       "    <tr>\n",
       "      <th>1038</th>\n",
       "      <td>1039.0</td>\n",
       "      <td>yard</td>\n",
       "      <td>n</td>\n",
       "      <td>39253.0</td>\n",
       "      <td>0.93</td>\n",
       "      <td>1.0</td>\n",
       "    </tr>\n",
       "    <tr>\n",
       "      <th>1040</th>\n",
       "      <td>1041.0</td>\n",
       "      <td>violence</td>\n",
       "      <td>n</td>\n",
       "      <td>38474.0</td>\n",
       "      <td>0.94</td>\n",
       "      <td>1.0</td>\n",
       "    </tr>\n",
       "    <tr>\n",
       "      <th>1041</th>\n",
       "      <td>1042.0</td>\n",
       "      <td>total</td>\n",
       "      <td>j</td>\n",
       "      <td>38798.0</td>\n",
       "      <td>0.93</td>\n",
       "      <td>1.0</td>\n",
       "    </tr>\n",
       "    <tr>\n",
       "      <th>1042</th>\n",
       "      <td>1043.0</td>\n",
       "      <td>tend</td>\n",
       "      <td>v</td>\n",
       "      <td>38295.0</td>\n",
       "      <td>0.94</td>\n",
       "      <td>1.0</td>\n",
       "    </tr>\n",
       "    <tr>\n",
       "      <th>1043</th>\n",
       "      <td>1044.0</td>\n",
       "      <td>investment</td>\n",
       "      <td>n</td>\n",
       "      <td>38810.0</td>\n",
       "      <td>0.93</td>\n",
       "      <td>1.0</td>\n",
       "    </tr>\n",
       "    <tr>\n",
       "      <th>1044</th>\n",
       "      <td>1045.0</td>\n",
       "      <td>discussion</td>\n",
       "      <td>n</td>\n",
       "      <td>39616.0</td>\n",
       "      <td>0.91</td>\n",
       "      <td>1.0</td>\n",
       "    </tr>\n",
       "    <tr>\n",
       "      <th>1045</th>\n",
       "      <td>1046.0</td>\n",
       "      <td>finger</td>\n",
       "      <td>n</td>\n",
       "      <td>40842.0</td>\n",
       "      <td>0.88</td>\n",
       "      <td>1.0</td>\n",
       "    </tr>\n",
       "    <tr>\n",
       "      <th>1046</th>\n",
       "      <td>1047.0</td>\n",
       "      <td>garden</td>\n",
       "      <td>n</td>\n",
       "      <td>38800.0</td>\n",
       "      <td>0.93</td>\n",
       "      <td>1.0</td>\n",
       "    </tr>\n",
       "    <tr>\n",
       "      <th>1048</th>\n",
       "      <td>1049.0</td>\n",
       "      <td>collection</td>\n",
       "      <td>n</td>\n",
       "      <td>38431.0</td>\n",
       "      <td>0.93</td>\n",
       "      <td>1.0</td>\n",
       "    </tr>\n",
       "    <tr>\n",
       "      <th>1049</th>\n",
       "      <td>1050.0</td>\n",
       "      <td>modern</td>\n",
       "      <td>j</td>\n",
       "      <td>38372.0</td>\n",
       "      <td>0.93</td>\n",
       "      <td>1.0</td>\n",
       "    </tr>\n",
       "    <tr>\n",
       "      <th>1050</th>\n",
       "      <td>1051.0</td>\n",
       "      <td>task</td>\n",
       "      <td>n</td>\n",
       "      <td>39209.0</td>\n",
       "      <td>0.91</td>\n",
       "      <td>1.0</td>\n",
       "    </tr>\n",
       "    <tr>\n",
       "      <th>...</th>\n",
       "      <td>...</td>\n",
       "      <td>...</td>\n",
       "      <td>...</td>\n",
       "      <td>...</td>\n",
       "      <td>...</td>\n",
       "      <td>...</td>\n",
       "    </tr>\n",
       "    <tr>\n",
       "      <th>1107</th>\n",
       "      <td>1108.0</td>\n",
       "      <td>southern</td>\n",
       "      <td>j</td>\n",
       "      <td>35314.0</td>\n",
       "      <td>0.95</td>\n",
       "      <td>1.0</td>\n",
       "    </tr>\n",
       "    <tr>\n",
       "      <th>1108</th>\n",
       "      <td>1109.0</td>\n",
       "      <td>fresh</td>\n",
       "      <td>j</td>\n",
       "      <td>35974.0</td>\n",
       "      <td>0.93</td>\n",
       "      <td>1.0</td>\n",
       "    </tr>\n",
       "    <tr>\n",
       "      <th>1109</th>\n",
       "      <td>1110.0</td>\n",
       "      <td>eventually</td>\n",
       "      <td>r</td>\n",
       "      <td>34534.0</td>\n",
       "      <td>0.97</td>\n",
       "      <td>1.0</td>\n",
       "    </tr>\n",
       "    <tr>\n",
       "      <th>1111</th>\n",
       "      <td>1112.0</td>\n",
       "      <td>forest</td>\n",
       "      <td>n</td>\n",
       "      <td>35429.0</td>\n",
       "      <td>0.94</td>\n",
       "      <td>1.0</td>\n",
       "    </tr>\n",
       "    <tr>\n",
       "      <th>1113</th>\n",
       "      <td>1114.0</td>\n",
       "      <td>global</td>\n",
       "      <td>j</td>\n",
       "      <td>36381.0</td>\n",
       "      <td>0.92</td>\n",
       "      <td>1.0</td>\n",
       "    </tr>\n",
       "    <tr>\n",
       "      <th>1114</th>\n",
       "      <td>1115.0</td>\n",
       "      <td>Senate</td>\n",
       "      <td>n</td>\n",
       "      <td>36809.0</td>\n",
       "      <td>0.91</td>\n",
       "      <td>1.0</td>\n",
       "    </tr>\n",
       "    <tr>\n",
       "      <th>1115</th>\n",
       "      <td>1116.0</td>\n",
       "      <td>reform</td>\n",
       "      <td>n</td>\n",
       "      <td>36103.0</td>\n",
       "      <td>0.92</td>\n",
       "      <td>1.0</td>\n",
       "    </tr>\n",
       "    <tr>\n",
       "      <th>1116</th>\n",
       "      <td>1117.0</td>\n",
       "      <td>access</td>\n",
       "      <td>n</td>\n",
       "      <td>35310.0</td>\n",
       "      <td>0.94</td>\n",
       "      <td>1.0</td>\n",
       "    </tr>\n",
       "    <tr>\n",
       "      <th>1118</th>\n",
       "      <td>1119.0</td>\n",
       "      <td>judge</td>\n",
       "      <td>n</td>\n",
       "      <td>35464.0</td>\n",
       "      <td>0.94</td>\n",
       "      <td>1.0</td>\n",
       "    </tr>\n",
       "    <tr>\n",
       "      <th>1120</th>\n",
       "      <td>1121.0</td>\n",
       "      <td>cost</td>\n",
       "      <td>v</td>\n",
       "      <td>34941.0</td>\n",
       "      <td>0.95</td>\n",
       "      <td>1.0</td>\n",
       "    </tr>\n",
       "    <tr>\n",
       "      <th>1121</th>\n",
       "      <td>1122.0</td>\n",
       "      <td>relation</td>\n",
       "      <td>n</td>\n",
       "      <td>36963.0</td>\n",
       "      <td>0.89</td>\n",
       "      <td>1.0</td>\n",
       "    </tr>\n",
       "    <tr>\n",
       "      <th>1123</th>\n",
       "      <td>1124.0</td>\n",
       "      <td>release</td>\n",
       "      <td>v</td>\n",
       "      <td>34301.0</td>\n",
       "      <td>0.96</td>\n",
       "      <td>1.0</td>\n",
       "    </tr>\n",
       "    <tr>\n",
       "      <th>1126</th>\n",
       "      <td>1127.0</td>\n",
       "      <td>opinion</td>\n",
       "      <td>n</td>\n",
       "      <td>34501.0</td>\n",
       "      <td>0.95</td>\n",
       "      <td>1.0</td>\n",
       "    </tr>\n",
       "    <tr>\n",
       "      <th>1127</th>\n",
       "      <td>1128.0</td>\n",
       "      <td>credit</td>\n",
       "      <td>n</td>\n",
       "      <td>34578.0</td>\n",
       "      <td>0.95</td>\n",
       "      <td>1.0</td>\n",
       "    </tr>\n",
       "    <tr>\n",
       "      <th>1128</th>\n",
       "      <td>1129.0</td>\n",
       "      <td>critical</td>\n",
       "      <td>j</td>\n",
       "      <td>35824.0</td>\n",
       "      <td>0.92</td>\n",
       "      <td>1.0</td>\n",
       "    </tr>\n",
       "    <tr>\n",
       "      <th>1129</th>\n",
       "      <td>1130.0</td>\n",
       "      <td>corner</td>\n",
       "      <td>n</td>\n",
       "      <td>35496.0</td>\n",
       "      <td>0.93</td>\n",
       "      <td>1.0</td>\n",
       "    </tr>\n",
       "    <tr>\n",
       "      <th>1130</th>\n",
       "      <td>1131.0</td>\n",
       "      <td>concerned</td>\n",
       "      <td>j</td>\n",
       "      <td>34331.0</td>\n",
       "      <td>0.96</td>\n",
       "      <td>1.0</td>\n",
       "    </tr>\n",
       "    <tr>\n",
       "      <th>1131</th>\n",
       "      <td>1132.0</td>\n",
       "      <td>recall</td>\n",
       "      <td>v</td>\n",
       "      <td>34442.0</td>\n",
       "      <td>0.95</td>\n",
       "      <td>1.0</td>\n",
       "    </tr>\n",
       "    <tr>\n",
       "      <th>1132</th>\n",
       "      <td>1133.0</td>\n",
       "      <td>version</td>\n",
       "      <td>n</td>\n",
       "      <td>34456.0</td>\n",
       "      <td>0.95</td>\n",
       "      <td>1.0</td>\n",
       "    </tr>\n",
       "    <tr>\n",
       "      <th>1133</th>\n",
       "      <td>1134.0</td>\n",
       "      <td>stare</td>\n",
       "      <td>v</td>\n",
       "      <td>39266.0</td>\n",
       "      <td>0.83</td>\n",
       "      <td>1.0</td>\n",
       "    </tr>\n",
       "    <tr>\n",
       "      <th>1134</th>\n",
       "      <td>1135.0</td>\n",
       "      <td>safety</td>\n",
       "      <td>n</td>\n",
       "      <td>34188.0</td>\n",
       "      <td>0.96</td>\n",
       "      <td>1.0</td>\n",
       "    </tr>\n",
       "    <tr>\n",
       "      <th>1135</th>\n",
       "      <td>1136.0</td>\n",
       "      <td>effective</td>\n",
       "      <td>j</td>\n",
       "      <td>35851.0</td>\n",
       "      <td>0.91</td>\n",
       "      <td>1.0</td>\n",
       "    </tr>\n",
       "    <tr>\n",
       "      <th>1136</th>\n",
       "      <td>1137.0</td>\n",
       "      <td>neighborhood</td>\n",
       "      <td>n</td>\n",
       "      <td>34691.0</td>\n",
       "      <td>0.94</td>\n",
       "      <td>1.0</td>\n",
       "    </tr>\n",
       "    <tr>\n",
       "      <th>1137</th>\n",
       "      <td>1138.0</td>\n",
       "      <td>original</td>\n",
       "      <td>j</td>\n",
       "      <td>34368.0</td>\n",
       "      <td>0.95</td>\n",
       "      <td>1.0</td>\n",
       "    </tr>\n",
       "    <tr>\n",
       "      <th>1138</th>\n",
       "      <td>1139.0</td>\n",
       "      <td>act</td>\n",
       "      <td>n</td>\n",
       "      <td>34104.0</td>\n",
       "      <td>0.96</td>\n",
       "      <td>1.0</td>\n",
       "    </tr>\n",
       "    <tr>\n",
       "      <th>1139</th>\n",
       "      <td>1140.0</td>\n",
       "      <td>troop</td>\n",
       "      <td>n</td>\n",
       "      <td>36001.0</td>\n",
       "      <td>0.91</td>\n",
       "      <td>1.0</td>\n",
       "    </tr>\n",
       "    <tr>\n",
       "      <th>1140</th>\n",
       "      <td>1141.0</td>\n",
       "      <td>income</td>\n",
       "      <td>n</td>\n",
       "      <td>34925.0</td>\n",
       "      <td>0.93</td>\n",
       "      <td>1.0</td>\n",
       "    </tr>\n",
       "    <tr>\n",
       "      <th>1141</th>\n",
       "      <td>1142.0</td>\n",
       "      <td>directly</td>\n",
       "      <td>r</td>\n",
       "      <td>34090.0</td>\n",
       "      <td>0.96</td>\n",
       "      <td>1.0</td>\n",
       "    </tr>\n",
       "    <tr>\n",
       "      <th>1142</th>\n",
       "      <td>1143.0</td>\n",
       "      <td>hurt</td>\n",
       "      <td>v</td>\n",
       "      <td>34445.0</td>\n",
       "      <td>0.94</td>\n",
       "      <td>1.0</td>\n",
       "    </tr>\n",
       "    <tr>\n",
       "      <th>1143</th>\n",
       "      <td>1144.0</td>\n",
       "      <td>species</td>\n",
       "      <td>n</td>\n",
       "      <td>35804.0</td>\n",
       "      <td>0.91</td>\n",
       "      <td>1.0</td>\n",
       "    </tr>\n",
       "  </tbody>\n",
       "</table>\n",
       "<p>100 rows × 6 columns</p>\n",
       "</div>"
      ],
      "text/plain": [
       "        Rank          Word Part of speech  Frequency  Dispersion  Know\n",
       "1005  1006.0       soldier              n    39552.0        0.95   1.0\n",
       "1006  1007.0       reflect              v    40687.0        0.92   1.0\n",
       "1008  1009.0        sexual              j    41865.0        0.89   1.0\n",
       "1009  1010.0         cause              n    38843.0        0.96   1.0\n",
       "1012  1013.0          fall              n    38822.0        0.96   1.0\n",
       "1013  1014.0      marriage              n    38517.0        0.96   1.0\n",
       "1014  1015.0         tough              j    39600.0        0.94   1.0\n",
       "1016  1017.0       surface              n    39367.0        0.94   1.0\n",
       "1017  1018.0       purpose              n    40084.0        0.92   1.0\n",
       "1019  1020.0       pattern              n    40397.0        0.91   1.0\n",
       "1022  1023.0         agent              n    38265.0        0.96   1.0\n",
       "1025  1026.0           gas              n    38194.0        0.96   1.0\n",
       "1027  1028.0         ahead              r    39705.0        0.92   1.0\n",
       "1028  1029.0    generation              n    38323.0        0.96   1.0\n",
       "1029  1030.0    commercial              j    40608.0        0.90   1.0\n",
       "1032  1033.0          test              v    38644.0        0.95   1.0\n",
       "1033  1034.0          item              n    40336.0        0.91   1.0\n",
       "1034  1035.0       reality              n    38397.0        0.95   1.0\n",
       "1035  1036.0         coach              n    40716.0        0.90   1.0\n",
       "1038  1039.0          yard              n    39253.0        0.93   1.0\n",
       "1040  1041.0      violence              n    38474.0        0.94   1.0\n",
       "1041  1042.0         total              j    38798.0        0.93   1.0\n",
       "1042  1043.0          tend              v    38295.0        0.94   1.0\n",
       "1043  1044.0    investment              n    38810.0        0.93   1.0\n",
       "1044  1045.0    discussion              n    39616.0        0.91   1.0\n",
       "1045  1046.0        finger              n    40842.0        0.88   1.0\n",
       "1046  1047.0        garden              n    38800.0        0.93   1.0\n",
       "1048  1049.0    collection              n    38431.0        0.93   1.0\n",
       "1049  1050.0        modern              j    38372.0        0.93   1.0\n",
       "1050  1051.0          task              n    39209.0        0.91   1.0\n",
       "...      ...           ...            ...        ...         ...   ...\n",
       "1107  1108.0      southern              j    35314.0        0.95   1.0\n",
       "1108  1109.0         fresh              j    35974.0        0.93   1.0\n",
       "1109  1110.0    eventually              r    34534.0        0.97   1.0\n",
       "1111  1112.0        forest              n    35429.0        0.94   1.0\n",
       "1113  1114.0        global              j    36381.0        0.92   1.0\n",
       "1114  1115.0        Senate              n    36809.0        0.91   1.0\n",
       "1115  1116.0        reform              n    36103.0        0.92   1.0\n",
       "1116  1117.0        access              n    35310.0        0.94   1.0\n",
       "1118  1119.0         judge              n    35464.0        0.94   1.0\n",
       "1120  1121.0          cost              v    34941.0        0.95   1.0\n",
       "1121  1122.0      relation              n    36963.0        0.89   1.0\n",
       "1123  1124.0       release              v    34301.0        0.96   1.0\n",
       "1126  1127.0       opinion              n    34501.0        0.95   1.0\n",
       "1127  1128.0        credit              n    34578.0        0.95   1.0\n",
       "1128  1129.0      critical              j    35824.0        0.92   1.0\n",
       "1129  1130.0        corner              n    35496.0        0.93   1.0\n",
       "1130  1131.0     concerned              j    34331.0        0.96   1.0\n",
       "1131  1132.0        recall              v    34442.0        0.95   1.0\n",
       "1132  1133.0       version              n    34456.0        0.95   1.0\n",
       "1133  1134.0         stare              v    39266.0        0.83   1.0\n",
       "1134  1135.0        safety              n    34188.0        0.96   1.0\n",
       "1135  1136.0     effective              j    35851.0        0.91   1.0\n",
       "1136  1137.0  neighborhood              n    34691.0        0.94   1.0\n",
       "1137  1138.0      original              j    34368.0        0.95   1.0\n",
       "1138  1139.0           act              n    34104.0        0.96   1.0\n",
       "1139  1140.0         troop              n    36001.0        0.91   1.0\n",
       "1140  1141.0        income              n    34925.0        0.93   1.0\n",
       "1141  1142.0      directly              r    34090.0        0.96   1.0\n",
       "1142  1143.0          hurt              v    34445.0        0.94   1.0\n",
       "1143  1144.0       species              n    35804.0        0.91   1.0\n",
       "\n",
       "[100 rows x 6 columns]"
      ]
     },
     "execution_count": 4,
     "metadata": {},
     "output_type": "execute_result"
    }
   ],
   "source": [
    "df_2_1_100"
   ]
  },
  {
   "cell_type": "code",
   "execution_count": null,
   "metadata": {
    "collapsed": true
   },
   "outputs": [],
   "source": []
  }
 ],
 "metadata": {
  "kernelspec": {
   "display_name": "Python 2",
   "language": "python",
   "name": "python2"
  },
  "language_info": {
   "codemirror_mode": {
    "name": "ipython",
    "version": 2
   },
   "file_extension": ".py",
   "mimetype": "text/x-python",
   "name": "python",
   "nbconvert_exporter": "python",
   "pygments_lexer": "ipython2",
   "version": "2.7.11"
  }
 },
 "nbformat": 4,
 "nbformat_minor": 0
}
