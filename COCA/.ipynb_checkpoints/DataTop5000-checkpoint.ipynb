{
 "cells": [
  {
   "cell_type": "code",
   "execution_count": 1,
   "metadata": {
    "collapsed": true
   },
   "outputs": [],
   "source": [
    "%matplotlib inline\n",
    "\n",
    "import matplotlib.pyplot as plt\n",
    "import seaborn as sns\n",
    "import numpy as np"
   ]
  },
  {
   "cell_type": "code",
   "execution_count": 2,
   "metadata": {
    "collapsed": true
   },
   "outputs": [],
   "source": [
    "import pandas as pd\n",
    "from pandas import DataFrame, Series"
   ]
  },
  {
   "cell_type": "code",
   "execution_count": 4,
   "metadata": {
    "collapsed": false
   },
   "outputs": [],
   "source": [
    "df = pd.read_csv('top5000_value_5000_00.csv')"
   ]
  },
  {
   "cell_type": "code",
   "execution_count": 6,
   "metadata": {
    "collapsed": false
   },
   "outputs": [
    {
     "name": "stdout",
     "output_type": "stream",
     "text": [
      "<class 'pandas.core.frame.DataFrame'>\n",
      "RangeIndex: 5000 entries, 0 to 4999\n",
      "Data columns (total 7 columns):\n",
      "Unnamed: 0        5000 non-null int64\n",
      "Rank              5000 non-null int64\n",
      "Word              5000 non-null object\n",
      "Part of speech    5000 non-null object\n",
      "Frequency         5000 non-null float64\n",
      "Dispersion        5000 non-null float64\n",
      "Know              583 non-null float64\n",
      "dtypes: float64(3), int64(2), object(2)\n",
      "memory usage: 273.5+ KB\n"
     ]
    }
   ],
   "source": [
    "df.info()"
   ]
  },
  {
   "cell_type": "code",
   "execution_count": 8,
   "metadata": {
    "collapsed": false
   },
   "outputs": [],
   "source": [
    "df = df.drop('Unnamed: 0', 1)"
   ]
  },
  {
   "cell_type": "code",
   "execution_count": 10,
   "metadata": {
    "collapsed": false,
    "scrolled": false
   },
   "outputs": [
    {
     "name": "stdout",
     "output_type": "stream",
     "text": [
      "      Rank          Word Part of speech  Frequency  Dispersion  Know\n",
      "1095  1096          wind              n    36478.0        0.94   1.0\n",
      "1096  1097           key              j    36056.0        0.95   NaN\n",
      "1097  1098  professional              j    36319.0        0.93   1.0\n",
      "1098  1099       mission              n    35217.0        0.96   1.0\n",
      "1099  1100          fast              r    35474.0        0.95   0.0\n",
      "      Rank        Word Part of speech  Frequency  Dispersion  Know\n",
      "1100  1101       alone              r    34982.0        0.96   0.0\n",
      "1101  1102    customer              n    36000.0        0.94   NaN\n",
      "1102  1103      suffer              v    34675.0        0.97   NaN\n",
      "1103  1104      speech              n    35504.0        0.95   NaN\n",
      "1104  1105  successful              j    35459.0        0.95   0.0\n"
     ]
    }
   ],
   "source": [
    "df0 = df[:1100]\n",
    "df1 = df[1100:]\n",
    "print df0.tail()\n",
    "print df1.head()"
   ]
  },
  {
   "cell_type": "markdown",
   "metadata": {},
   "source": [
    "数值填充"
   ]
  },
  {
   "cell_type": "code",
   "execution_count": 11,
   "metadata": {
    "collapsed": false
   },
   "outputs": [],
   "source": [
    "df0 = df0.fillna(0)"
   ]
  },
  {
   "cell_type": "code",
   "execution_count": 12,
   "metadata": {
    "collapsed": true
   },
   "outputs": [],
   "source": [
    "df1 = df1.fillna(1)"
   ]
  },
  {
   "cell_type": "markdown",
   "metadata": {},
   "source": [
    "合并练习，求并集"
   ]
  },
  {
   "cell_type": "code",
   "execution_count": 13,
   "metadata": {
    "collapsed": false
   },
   "outputs": [],
   "source": [
    "df3 = DataFrame({'x': [1, 2], 'y': [3, 4]})\n",
    "df4 = DataFrame({'x': [5, 6], 'y': [7, 8]})\n",
    "df5 = pd.merge(df3, df4, how='outer')"
   ]
  },
  {
   "cell_type": "code",
   "execution_count": 14,
   "metadata": {
    "collapsed": false,
    "scrolled": false
   },
   "outputs": [
    {
     "data": {
      "text/html": [
       "<div>\n",
       "<table border=\"1\" class=\"dataframe\">\n",
       "  <thead>\n",
       "    <tr style=\"text-align: right;\">\n",
       "      <th></th>\n",
       "      <th>x</th>\n",
       "      <th>y</th>\n",
       "    </tr>\n",
       "  </thead>\n",
       "  <tbody>\n",
       "    <tr>\n",
       "      <th>0</th>\n",
       "      <td>1.0</td>\n",
       "      <td>3.0</td>\n",
       "    </tr>\n",
       "    <tr>\n",
       "      <th>1</th>\n",
       "      <td>2.0</td>\n",
       "      <td>4.0</td>\n",
       "    </tr>\n",
       "    <tr>\n",
       "      <th>2</th>\n",
       "      <td>5.0</td>\n",
       "      <td>7.0</td>\n",
       "    </tr>\n",
       "    <tr>\n",
       "      <th>3</th>\n",
       "      <td>6.0</td>\n",
       "      <td>8.0</td>\n",
       "    </tr>\n",
       "  </tbody>\n",
       "</table>\n",
       "</div>"
      ],
      "text/plain": [
       "     x    y\n",
       "0  1.0  3.0\n",
       "1  2.0  4.0\n",
       "2  5.0  7.0\n",
       "3  6.0  8.0"
      ]
     },
     "execution_count": 14,
     "metadata": {},
     "output_type": "execute_result"
    }
   ],
   "source": [
    "df5"
   ]
  },
  {
   "cell_type": "code",
   "execution_count": 106,
   "metadata": {
    "collapsed": false
   },
   "outputs": [],
   "source": [
    "df2.to_csv('top5000_add_all_label.csv', index=False)"
   ]
  },
  {
   "cell_type": "code",
   "execution_count": 22,
   "metadata": {
    "collapsed": false,
    "scrolled": false
   },
   "outputs": [
    {
     "name": "stdout",
     "output_type": "stream",
     "text": [
      "<class 'pandas.core.frame.DataFrame'>\n",
      "Int64Index: 5000 entries, 0 to 4999\n",
      "Data columns (total 6 columns):\n",
      "Rank              5000 non-null float64\n",
      "Word              5000 non-null object\n",
      "Part of speech    5000 non-null object\n",
      "Frequency         5000 non-null float64\n",
      "Dispersion        5000 non-null float64\n",
      "Know              5000 non-null float64\n",
      "dtypes: float64(4), object(2)\n",
      "memory usage: 273.4+ KB\n"
     ]
    }
   ],
   "source": [
    "df2 = pd.merge(df0, df1, how='outer')\n",
    "df2.info()"
   ]
  },
  {
   "cell_type": "code",
   "execution_count": 74,
   "metadata": {
    "collapsed": false
   },
   "outputs": [],
   "source": [
    "df.to_csv('top5000_value_4116.csv',index=False)"
   ]
  },
  {
   "cell_type": "code",
   "execution_count": 75,
   "metadata": {
    "collapsed": false
   },
   "outputs": [
    {
     "name": "stdout",
     "output_type": "stream",
     "text": [
      "DataTop5000.ipynb  top5000_label_01.csv    top5000_value5000_00.csv\r\n",
      "df_1_100.txt\t   top5000_value_4116.csv  top5000.xlsx\r\n"
     ]
    }
   ],
   "source": [
    "!ls"
   ]
  },
  {
   "cell_type": "code",
   "execution_count": 28,
   "metadata": {
    "collapsed": false,
    "scrolled": true
   },
   "outputs": [
    {
     "name": "stdout",
     "output_type": "stream",
     "text": [
      "<class 'pandas.core.frame.DataFrame'>\n",
      "Int64Index: 4116 entries, 147 to 4999\n",
      "Data columns (total 6 columns):\n",
      "Rank              4116 non-null float64\n",
      "Word              4116 non-null object\n",
      "Part of speech    4116 non-null object\n",
      "Frequency         4116 non-null float64\n",
      "Dispersion        4116 non-null float64\n",
      "Know              4116 non-null float64\n",
      "dtypes: float64(4), object(2)\n",
      "memory usage: 225.1+ KB\n"
     ]
    }
   ],
   "source": [
    "df = df2[df2.Know==1]\n",
    "df.info()"
   ]
  },
  {
   "cell_type": "markdown",
   "metadata": {},
   "source": [
    "ix和loc是更为强制型的整数索引"
   ]
  },
  {
   "cell_type": "code",
   "execution_count": 30,
   "metadata": {
    "collapsed": false,
    "scrolled": true
   },
   "outputs": [],
   "source": [
    "df_1_1000    = df.ix[:1000]\n",
    "df_1000_2000 = df.ix[1000:2000]\n",
    "df_2000_3000 = df.ix[2000:3000]\n",
    "df_3000_4000 = df.ix[3000:4000]\n",
    "df_4000_5000 = df.ix[4000:]"
   ]
  },
  {
   "cell_type": "code",
   "execution_count": 42,
   "metadata": {
    "collapsed": false,
    "scrolled": true
   },
   "outputs": [
    {
     "name": "stdout",
     "output_type": "stream",
     "text": [
      "<class 'pandas.core.frame.DataFrame'>\n",
      "Int64Index: 334 entries, 147 to 999\n",
      "Data columns (total 6 columns):\n",
      "Rank              334 non-null float64\n",
      "Word              334 non-null object\n",
      "Part of speech    334 non-null object\n",
      "Frequency         334 non-null float64\n",
      "Dispersion        334 non-null float64\n",
      "Know              334 non-null float64\n",
      "dtypes: float64(4), object(2)\n",
      "memory usage: 18.3+ KB\n"
     ]
    }
   ],
   "source": [
    "df_1_1000.info()"
   ]
  },
  {
   "cell_type": "code",
   "execution_count": 108,
   "metadata": {
    "collapsed": true
   },
   "outputs": [],
   "source": [
    "df_1_1000.to_csv('df_1_1000.csv', index=False)"
   ]
  },
  {
   "cell_type": "code",
   "execution_count": 109,
   "metadata": {
    "collapsed": false
   },
   "outputs": [
    {
     "name": "stdout",
     "output_type": "stream",
     "text": [
      "|--------+-----------+----------------+-----------+------------+-------|\r\n",
      "|  Rank  | Word      | Part of speech | Frequency | Dispersion | Know  |\r\n",
      "|--------+-----------+----------------+-----------+------------+-------|\r\n",
      "|  148.0 | own       | d              | 240452.0  | 0.98       | 1.0   |\r\n",
      "|  163.0 | group     | n              | 229435.0  | 0.93       | 1.0   |\r\n",
      "|  180.0 | against   | i              | 204379.0  | 0.98       | 1.0   |\r\n",
      "|  231.0 | area      | n              | 165812.0  | 0.95       | 1.0   |\r\n",
      "|  264.0 | service   | n              | 146122.0  | 0.94       | 1.0   |\r\n",
      "|  273.0 | hour      | n              | 138955.0  | 0.96       | 1.0   |\r\n",
      "|  278.0 | political | j              | 144437.0  | 0.92       | 1.0   |\r\n",
      "|  280.0 | among     | i              | 138192.0  | 0.94       | 1.0   |\r\n",
      "|  288.0 | law       | n              | 133706.0  | 0.95       | 1.0   |\r\n",
      "|--------+-----------+----------------+-----------+------------+-------|\r\n"
     ]
    }
   ],
   "source": [
    "!head df_1_1000.csv | csvlook"
   ]
  },
  {
   "cell_type": "markdown",
   "metadata": {},
   "source": [
    "切成 3 个生词本"
   ]
  },
  {
   "cell_type": "code",
   "execution_count": 96,
   "metadata": {
    "collapsed": false
   },
   "outputs": [],
   "source": [
    "df_1_100 = df_1_1000[:100]\n",
    "df_1_100 = df_1_100['Word']\n",
    "df_1_100.sort_index(ascending=False,inplace=True)\n",
    "df_1_100.to_csv('df_1_100.txt', index=False)"
   ]
  },
  {
   "cell_type": "code",
   "execution_count": 97,
   "metadata": {
    "collapsed": false
   },
   "outputs": [
    {
     "name": "stdout",
     "output_type": "stream",
     "text": [
      "100 df_1_100.txt\r\n"
     ]
    }
   ],
   "source": [
    "!wc -l df_1_100.txt"
   ]
  },
  {
   "cell_type": "code",
   "execution_count": 101,
   "metadata": {
    "collapsed": false,
    "scrolled": false
   },
   "outputs": [],
   "source": [
    "df_100_217 = df_1_1000[100:217]\n",
    "df_100_217 = df_100_217['Word']\n",
    "df_100_217.sort_index(ascending=False,inplace=True)\n",
    "df_100_217.to_csv('df_100_217.txt', index=False)"
   ]
  },
  {
   "cell_type": "code",
   "execution_count": 102,
   "metadata": {
    "collapsed": false,
    "scrolled": true
   },
   "outputs": [
    {
     "name": "stdout",
     "output_type": "stream",
     "text": [
      "117 df_100_217.txt\r\n"
     ]
    }
   ],
   "source": [
    "!wc -l df_100_217.txt"
   ]
  },
  {
   "cell_type": "code",
   "execution_count": 103,
   "metadata": {
    "collapsed": true
   },
   "outputs": [],
   "source": [
    "df_217_334 = df_1_1000[217:]\n",
    "df_217_334 = df_217_334['Word']\n",
    "df_217_334.sort_index(ascending=False,inplace=True)\n",
    "df_217_334.to_csv('df_217_334.txt', index=False)"
   ]
  },
  {
   "cell_type": "code",
   "execution_count": 41,
   "metadata": {
    "collapsed": false,
    "scrolled": true
   },
   "outputs": [
    {
     "name": "stdout",
     "output_type": "stream",
     "text": [
      "<class 'pandas.core.frame.DataFrame'>\n",
      "Int64Index: 834 entries, 1005 to 2000\n",
      "Data columns (total 6 columns):\n",
      "Rank              834 non-null float64\n",
      "Word              834 non-null object\n",
      "Part of speech    834 non-null object\n",
      "Frequency         834 non-null float64\n",
      "Dispersion        834 non-null float64\n",
      "Know              834 non-null float64\n",
      "dtypes: float64(4), object(2)\n",
      "memory usage: 45.6+ KB\n"
     ]
    }
   ],
   "source": [
    "df_1000_2000.info()"
   ]
  },
  {
   "cell_type": "code",
   "execution_count": 43,
   "metadata": {
    "collapsed": false
   },
   "outputs": [
    {
     "name": "stdout",
     "output_type": "stream",
     "text": [
      "<class 'pandas.core.frame.DataFrame'>\n",
      "Int64Index: 961 entries, 2000 to 3000\n",
      "Data columns (total 6 columns):\n",
      "Rank              961 non-null float64\n",
      "Word              961 non-null object\n",
      "Part of speech    961 non-null object\n",
      "Frequency         961 non-null float64\n",
      "Dispersion        961 non-null float64\n",
      "Know              961 non-null float64\n",
      "dtypes: float64(4), object(2)\n",
      "memory usage: 52.6+ KB\n"
     ]
    }
   ],
   "source": [
    "df_2000_3000.info()"
   ]
  },
  {
   "cell_type": "code",
   "execution_count": 34,
   "metadata": {
    "collapsed": false,
    "scrolled": false
   },
   "outputs": [
    {
     "name": "stdout",
     "output_type": "stream",
     "text": [
      "<class 'pandas.core.frame.DataFrame'>\n",
      "Int64Index: 997 entries, 4000 to 4999\n",
      "Data columns (total 6 columns):\n",
      "Rank              997 non-null float64\n",
      "Word              997 non-null object\n",
      "Part of speech    997 non-null object\n",
      "Frequency         997 non-null float64\n",
      "Dispersion        997 non-null float64\n",
      "Know              997 non-null float64\n",
      "dtypes: float64(4), object(2)\n",
      "memory usage: 54.5+ KB\n"
     ]
    }
   ],
   "source": [
    "df_4000_5000[df_4000_5000.Know == 1].info()"
   ]
  },
  {
   "cell_type": "code",
   "execution_count": 107,
   "metadata": {
    "collapsed": false,
    "scrolled": false
   },
   "outputs": [
    {
     "data": {
      "text/plain": [
       "n    2202\n",
       "v     823\n",
       "j     739\n",
       "r     241\n",
       "i      56\n",
       "m      17\n",
       "c      11\n",
       "p      10\n",
       "u       9\n",
       "d       8\n",
       "Name: Part of speech, dtype: int64"
      ]
     },
     "execution_count": 107,
     "metadata": {},
     "output_type": "execute_result"
    }
   ],
   "source": [
    "df['Part of speech'].value_counts()"
   ]
  }
 ],
 "metadata": {
  "kernelspec": {
   "display_name": "Python 2",
   "language": "python",
   "name": "python2"
  },
  "language_info": {
   "codemirror_mode": {
    "name": "ipython",
    "version": 2
   },
   "file_extension": ".py",
   "mimetype": "text/x-python",
   "name": "python",
   "nbconvert_exporter": "python",
   "pygments_lexer": "ipython2",
   "version": "2.7.11"
  }
 },
 "nbformat": 4,
 "nbformat_minor": 0
}
