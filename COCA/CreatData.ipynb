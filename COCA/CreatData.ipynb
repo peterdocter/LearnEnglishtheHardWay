{
 "cells": [
  {
   "cell_type": "code",
   "execution_count": 2,
   "metadata": {
    "collapsed": true
   },
   "outputs": [],
   "source": [
    "# -*- coding:utf-8 -*-\n",
    "# import data\n",
    "import pandas as pd\n",
    "df = pd.read_csv('MetaData/top5000_add_all_label.csv')\n",
    "\n",
    "# select data\n",
    "df_s = df.iloc[1000:2000] # 基于整数索引选1000个\n",
    "df_s = df_s[df_s['Know']==1] # 索引这样写比较简单，果然是索引是列，切片是行\n",
    "df_2_200_300 = df_s.iloc[200:300]\n",
    "\n",
    "# produce data \n",
    "df_2_200_300_values = df_2_200_300['Word']\n",
    "df_2_200_300_rename = df_2_200_300[['Rank', 'Word']]\n",
    "df_2_200_300_all = df_2_200_300[['Rank','Word','Part of speech']]\n",
    "\n",
    "# export data\n",
    "df_2_200_300_all.to_csv('Rename&Values/df_2_200_300_all.txt', index=False, header=False)\n",
    "df_2_200_300_values.to_csv('SplitData/df_2_200_300_values.txt', index=False, header=False)\n",
    "df_2_200_300_values.to_csv('Rename&Values/df_2_200_300_values.txt', index=False, header=False)\n",
    "df_2_200_300_rename.to_csv('Rename&Values/df_2_200_300_rename.txt', index=False, header=False)"
   ]
  },
  {
   "cell_type": "code",
   "execution_count": null,
   "metadata": {
    "collapsed": true
   },
   "outputs": [],
   "source": [
    "# -*- coding:utf-8 -*-\n",
    "# import data\n",
    "import pandas as pd\n",
    "df = pd.read_csv('MetaData/top5000_add_all_label.csv')\n",
    "\n",
    "# select data\n",
    "df_s = df.iloc[1000:2000] # 基于整数索引选1000个\n",
    "df_s = df_s[df_s['Know']==1] # 索引这样写比较简单，果然是索引是列，切片是行\n",
    "df_2_700_800 = df_s.iloc[717:]\n",
    "\n",
    "# produce data \n",
    "df_2_700_800_values = df_2_700_800['Word']\n",
    "df_2_700_800_rename = df_2_700_800[['Rank', 'Word']]\n",
    "df_2_700_800_all = df_2_700_800[['Rank','Word','Part of speech']]\n",
    "\n",
    "# export data\n",
    "df_2_700_800_all.to_csv('Rename&Values/df_2_700_800_all.txt', index=False, header=False)\n",
    "df_2_700_800_values.to_csv('SplitData/df_2_700_800_values.txt', index=False, header=False)\n",
    "df_2_700_800_values.to_csv('Rename&Values/df_2_700_800_values.txt', index=False, header=False)\n",
    "df_2_700_800_rename.to_csv('Rename&Values/df_2_700_800_rename.txt', index=False, header=False)"
   ]
  },
  {
   "cell_type": "code",
   "execution_count": 17,
   "metadata": {
    "collapsed": true
   },
   "outputs": [],
   "source": [
    "!split -dl 20 --additional-suffix=.txt df_2_700_800_values.txt 2_700_800_"
   ]
  },
  {
   "cell_type": "code",
   "execution_count": 20,
   "metadata": {
    "collapsed": false,
    "scrolled": true
   },
   "outputs": [],
   "source": [
    "!split -dl 20 --additional-suffix=.txt df_2_600_700_values.txt 2_600_700_"
   ]
  },
  {
   "cell_type": "code",
   "execution_count": 21,
   "metadata": {
    "collapsed": false,
    "scrolled": false
   },
   "outputs": [
    {
     "name": "stdout",
     "output_type": "stream",
     "text": [
      "/home/scott/Documents/LearnEnglish\n"
     ]
    }
   ],
   "source": [
    "%cd ../"
   ]
  },
  {
   "cell_type": "code",
   "execution_count": 14,
   "metadata": {
    "collapsed": true
   },
   "outputs": [],
   "source": [
    "!split -dl 20 --additional-suffix=.txt df_2_500_600_values.txt 2_500_600_"
   ]
  },
  {
   "cell_type": "code",
   "execution_count": 19,
   "metadata": {
    "collapsed": false,
    "scrolled": true
   },
   "outputs": [
    {
     "name": "stdout",
     "output_type": "stream",
     "text": [
      "/home/scott/Documents/LearnEnglish/SplitData\n"
     ]
    }
   ],
   "source": [
    "%cd SplitData/"
   ]
  },
  {
   "cell_type": "code",
   "execution_count": 3,
   "metadata": {
    "collapsed": false
   },
   "outputs": [],
   "source": [
    "!split -dl 20 --additional-suffix=.txt df_2_300_400_values.txt 2_300_400_"
   ]
  },
  {
   "cell_type": "code",
   "execution_count": 4,
   "metadata": {
    "collapsed": false
   },
   "outputs": [
    {
     "name": "stdout",
     "output_type": "stream",
     "text": [
      "/home/scott/Documents/LearnEnglish\n"
     ]
    }
   ],
   "source": [
    "%cd .."
   ]
  },
  {
   "cell_type": "code",
   "execution_count": null,
   "metadata": {
    "collapsed": true
   },
   "outputs": [],
   "source": []
  }
 ],
 "metadata": {
  "kernelspec": {
   "display_name": "Python 2",
   "language": "python",
   "name": "python2"
  },
  "language_info": {
   "codemirror_mode": {
    "name": "ipython",
    "version": 2
   },
   "file_extension": ".py",
   "mimetype": "text/x-python",
   "name": "python",
   "nbconvert_exporter": "python",
   "pygments_lexer": "ipython2",
   "version": "2.7.10"
  }
 },
 "nbformat": 4,
 "nbformat_minor": 0
}
